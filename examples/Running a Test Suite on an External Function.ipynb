{
 "cells": [
  {
   "cell_type": "markdown",
   "id": "fc3073e1-a1e8-452f-bcc6-20466ba8e747",
   "metadata": {},
   "source": [
    "# Running a Test Suite on an External Function\n",
    "\n",
    "## Context\n",
    "Vellum Test Suites provide a framework for performing quantiative evaluation on AI applications at scale. You can use them to measure the quality of Prompts, Workflows, and even custom functions defined outside of Vellum in your codebase!\n",
    "\n",
    "This example details how to use Vellum Test Suites to run evals on an external function.\n"
   ]
  },
  {
   "cell_type": "markdown",
   "id": "beb623fd-55fb-4f9f-8cd9-c095d2bef043",
   "metadata": {},
   "source": [
    "## Prerequisites\n",
    "1. A Vellum account\n",
    "2. A Vellum API key, which can be created at [https://app.vellum.ai/api-keys](https://app.vellum.ai/api-keys)\n",
    "3. Install the `vellum-ai` pip package. We'll also use the getpass package in this notebook to store your Vellum API key.\n",
    "\n",
    "\n"
   ]
  },
  {
   "cell_type": "code",
   "execution_count": null,
   "id": "cc8ea10c-d5f0-4557-972b-7f9aa293ad1a",
   "metadata": {},
   "outputs": [],
   "source": [
    "!pip install vellum-ai getpass\n"
   ]
  },
  {
   "cell_type": "code",
   "execution_count": null,
   "id": "f61c3873-bf84-4a61-b1a0-36089704c360",
   "metadata": {},
   "outputs": [],
   "source": [
    "from getpass import getpass\n",
    "\n",
    "VELLUM_API_KEY = getpass()"
   ]
  },
  {
   "cell_type": "markdown",
   "id": "4bffb358-dd73-4ca0-bf5d-ccbee73e1b7e",
   "metadata": {},
   "source": [
    "## Test Suite Set Up\n",
    "To run evals on your external function, you must first configure a Test Suite through the Vellum web application at [https://app.vellum.ai/test-suites](https://app.vellum.ai/test-suites).\n",
    "\n",
    "Note that the Test Suite's \"Execution Interface\" must match that of the function that you'd like to evaluate. For example, if your function looks like:\n",
    "\n",
    "```python\n",
    "def my_function(arg_1: str, arg_2: str) -> str:\n",
    "    pass\n",
    "```\n",
    "\n",
    "Then you will want your Test Suite's Execution interface to look like this:\n",
    "![Test Suite Execution Interface](images/test-suite-execution-interface.png)"
   ]
  },
  {
   "cell_type": "markdown",
   "id": "f97d9f53-f57d-4db9-9a11-06fb6f689a99",
   "metadata": {},
   "source": [
    "## Getting Started\n",
    "\n",
    "Now that everything is set up, it's time to write some code! First, we need to define the function whose output we want to evaluate. Here's how we can actually invoke the Test Suite against our function.\n",
    "\n",
    "Here we're using a Vellum Workflow as an example, but this code could do anything, including calling a Prompt Chain made via another\n",
    "third-party library."
   ]
  },
  {
   "cell_type": "code",
   "execution_count": null,
   "id": "46070a6d-c661-49ea-b15d-0123fc8c8da5",
   "metadata": {},
   "outputs": [],
   "source": [
    "from vellum.types.named_test_case_variable_value_request import NamedTestCaseVariableValueRequest, NamedTestCaseStringVariableValueRequest\n",
    "from vellum.types.test_case_variable_value import TestCaseVariableValue\n",
    "\n",
    "def external_execution(inputs: list[TestCaseVariableValue]) -> list[NamedTestCaseVariableValueRequest]:\n",
    "    output_value = \"\".join([variable.value for variable in inputs])\n",
    "    output = NamedTestCaseStringVariableValueRequest(\n",
    "        type=\"STRING\",\n",
    "        value=output_value,\n",
    "        name=\"output\"\n",
    "    )\n",
    "    return [output]"
   ]
  },
  {
   "cell_type": "code",
   "execution_count": null,
   "id": "95384013-0636-42db-8d33-4f641d4d7e75",
   "metadata": {},
   "outputs": [],
   "source": [
    "# Ether the Test Suite's ID or name\n",
    "TEST_SUITE_IDENTIFIER = input()"
   ]
  },
  {
   "cell_type": "code",
   "execution_count": null,
   "id": "57b72cff-0c3e-4fe5-ab7a-7f03b4bf04ad",
   "metadata": {},
   "outputs": [],
   "source": [
    "from vellum.client import Vellum\n",
    "from vellum.lib.test_suites import VellumTestSuite\n",
    "\n",
    "\n",
    "# Create a new VellumTestSuite object\n",
    "client = Vellum(api_key=VELLUM_API_KEY)\n",
    "test_suite = VellumTestSuite(TEST_SUITE_IDENTIFIER, client=client)"
   ]
  },
  {
   "cell_type": "markdown",
   "id": "831c1fd7-2f48-49ae-a941-3f0e3a721987",
   "metadata": {},
   "source": [
    "## Running Evals\n",
    "\n",
    "Here is where we actually trigger the Test Suite and pass in our executable function."
   ]
  },
  {
   "cell_type": "code",
   "execution_count": null,
   "id": "421c76de-20f9-4b11-bd4e-f6787148d695",
   "metadata": {},
   "outputs": [],
   "source": [
    "# Run the external execution\n",
    "results = test_suite.run_external(executable=external_execution)"
   ]
  },
  {
   "cell_type": "code",
   "execution_count": null,
   "id": "2bd38cf7-78bf-4cf6-996d-31f22530efa2",
   "metadata": {},
   "outputs": [],
   "source": [
    "# Filter down to a specific metric and a specific output that it produces.\n",
    "results.get_metric_outputs(\"Exact Match\", \"score\")"
   ]
  },
  {
   "cell_type": "markdown",
   "id": "54aaa843-af86-48bd-9329-ced9280c740b",
   "metadata": {},
   "source": [
    "## Operating on the Results\n",
    "\n",
    "Above we use the`get_metric_outputs` function to retrieve all `score`'s for the `Exact Match` output.\n",
    "\n",
    "Note that under the hood, this function calls `wait_until_complete` to wait until the Test Suite Run has finished running.\n",
    "You can also call this function explicitly if you like ahead of time.\n",
    "\n",
    "`get_metric_outputs` is the primary way to interact with the outputs of a specified metric. With it, you can\n",
    "perform a variety of assertions to enforce whatever quality thresholds you like.\n",
    "\n",
    "If you want to operate directly on the raw executions for ultimate flexibility, use `results.all_executions`."
   ]
  },
  {
   "cell_type": "code",
   "execution_count": null,
   "id": "c98609c5-754e-4e45-9155-f9a5e52f20e4",
   "metadata": {},
   "outputs": [],
   "source": [
    "def print_result(msg: str, result: bool) -> None:\n",
    "    print(msg, \"Yes\" if result else \"No\")\n",
    "\n",
    "# Example of asserting that every Test Cases passes\n",
    "all_test_cases_pass = all([result.value == 1.0 for result in results.get_metric_outputs(\"exact-match\", \"score\")])\n",
    "print_result(\"Do all Test Cases pass?\", all_test_cases_pass)\n",
    "\n",
    "# Example asserting that at least 50% of results have a score above a specified threshold\n",
    "num_test_cases_passing = results.get_count_metric_outputs(\"exact-match\", \"score\", predicate=lambda x: x.value >= 0.5)\n",
    "num_test_cases_total = results.get_count_metric_outputs(\"exact-match\", \"score\")\n",
    "percent_test_cases_passing = num_test_cases_passing / num_test_cases_total\n",
    "print_result(f\"{percent_test_cases_passing * 100}% of Test Cases pass. Acceptable?\", percent_test_cases_passing > 0.5)\n",
    "\n",
    "# Example of asserting that the average score is greater than a specified threshold\n",
    "avg_score_acceptable = results.get_mean_metric_output(\"exact-match\", \"score\") > 0.5\n",
    "print_result(\"Is the average score acceptable?\", avg_score_acceptable)\n",
    "\n",
    "# Example of asserting that the min score is greater than a specified threshold\n",
    "min_score_acceptable = results.get_min_metric_output(\"exact-match\", \"score\") > 0.5\n",
    "print_result(\"Is the minimum score acceptable?\", min_score_acceptable)\n",
    "\n",
    "# Example of asserting that the max score is greater than a specified threshold\n",
    "max_score_acceptable = results.get_min_metric_output(\"exact-match\", \"score\") > 0.75\n",
    "print_result(\"Is the maximum regressing?\", max_score_acceptable)\n",
    "\n",
    "# Print out all results\n",
    "results.all_executions"
   ]
  }
 ],
 "metadata": {
  "kernelspec": {
   "display_name": "Python 3 (ipykernel)",
   "language": "python",
   "name": "python3"
  },
  "language_info": {
   "codemirror_mode": {
    "name": "ipython",
    "version": 3
   },
   "file_extension": ".py",
   "mimetype": "text/x-python",
   "name": "python",
   "nbconvert_exporter": "python",
   "pygments_lexer": "ipython3",
   "version": "3.11.9"
  }
 },
 "nbformat": 4,
 "nbformat_minor": 5
}
